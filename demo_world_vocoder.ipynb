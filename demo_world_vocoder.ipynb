{
 "cells": [
  {
   "cell_type": "markdown",
   "metadata": {},
   "source": [
    "WORLD操作入门"
   ]
  },
  {
   "cell_type": "code",
   "execution_count": 30,
   "metadata": {},
   "outputs": [],
   "source": [
    "import librosa\n",
    "import pyworld as pw\n",
    "import librosa.display\n",
    "from matplotlib import pyplot as plt\n",
    "import soundfile\n",
    "import argparse"
   ]
  },
  {
   "cell_type": "code",
   "execution_count": 22,
   "metadata": {},
   "outputs": [],
   "source": [
    "filename = './data/demo.wav'\n",
    "x, fs = soundfile.read(filename)"
   ]
  },
  {
   "cell_type": "markdown",
   "metadata": {},
   "source": [
    "原始音频"
   ]
  },
  {
   "cell_type": "markdown",
   "metadata": {},
   "source": [
    "<audio  controls=\"controls\" src=\"./data/demo.wav\" />"
   ]
  },
  {
   "cell_type": "code",
   "execution_count": 23,
   "metadata": {},
   "outputs": [
    {
     "data": {
      "image/png": "[encoded data removed]",
      "text/plain": [
       "<Figure size 576x216 with 1 Axes>"
      ]
     },
     "metadata": {
      "needs_background": "light"
     },
     "output_type": "display_data"
    }
   ],
   "source": [
    "plt.figure(figsize=(8, 3))\n",
    "librosa.display.waveplot(x, sr=fs)\n",
    "plt.show()"
   ]
  },
  {
   "cell_type": "code",
   "execution_count": 39,
   "metadata": {},
   "outputs": [],
   "source": [
    "class Args():\n",
    "    pass\n",
    "args = Args()\n",
    "args.speed = 1\n",
    "args.frame_period = 5.0"
   ]
  },
  {
   "cell_type": "markdown",
   "metadata": {},
   "source": [
    "直接合成"
   ]
  },
  {
   "cell_type": "code",
   "execution_count": 49,
   "metadata": {},
   "outputs": [],
   "source": [
    "_f0, t = pw.dio(x, fs, f0_floor=50.0, f0_ceil=600.0,\n",
    "                channels_in_octave=2,\n",
    "                frame_period=args.frame_period,\n",
    "                speed=args.speed)\n",
    "_sp = pw.cheaptrick(x, _f0, t, fs)\n",
    "_ap = pw.d4c(x, _f0, t, fs)\n",
    "_y = pw.synthesize(_f0, _sp, _ap, fs, args.frame_period)\n",
    "soundfile.write('./data/demo_without_f0_refinement.wav', _y, fs)"
   ]
  },
  {
   "cell_type": "markdown",
   "metadata": {},
   "source": [
    "<audio  controls=\"controls\" src=\"./data/demo_without_f0_refinement.wav\" />"
   ]
  },
  {
   "cell_type": "markdown",
   "metadata": {},
   "source": [
    "加8度"
   ]
  },
  {
   "cell_type": "code",
   "execution_count": 51,
   "metadata": {},
   "outputs": [],
   "source": [
    "_f0 = _f0 * 8\n",
    "_y = pw.synthesize(_f0, _sp, _ap, fs, args.frame_period)\n",
    "soundfile.write('./data/demo_with_f0_8.wav', _y, fs)"
   ]
  },
  {
   "cell_type": "markdown",
   "metadata": {},
   "source": [
    "<audio  controls=\"controls\" src=\"./data/demo_with_f0_8.wav\" />"
   ]
  }
 ],
 "metadata": {
  "kernelspec": {
   "display_name": "Python 3",
   "language": "python",
   "name": "python3"
  },
  "language_info": {
   "codemirror_mode": {
    "name": "ipython",
    "version": 3
   },
   "file_extension": ".py",
   "mimetype": "text/x-python",
   "name": "python",
   "nbconvert_exporter": "python",
   "pygments_lexer": "ipython3",
   "version": "3.6.9"
  }
 },
 "nbformat": 4,
 "nbformat_minor": 4
}
